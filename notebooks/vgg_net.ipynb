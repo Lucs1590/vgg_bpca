{
 "cells": [
  {
   "attachments": {},
   "cell_type": "markdown",
   "metadata": {},
   "source": [
    "# VGG NET\n",
    "Here we are using a VGG net with 19 layers with the dataset cifar 100.\n",
    "\n",
    "We are trying to reproduce the results of the paper [1] and after we will try to change some layers and see how it affects the results.\n",
    "\n",
    "[1] https://arxiv.org/pdf/1409.1556.pdf"
   ]
  }
 ],
 "metadata": {
  "language_info": {
   "name": "python"
  },
  "orig_nbformat": 4
 },
 "nbformat": 4,
 "nbformat_minor": 2
}
